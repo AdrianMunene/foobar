{
 "cells": [
  {
   "cell_type": "code",
   "execution_count": 18,
   "metadata": {},
   "outputs": [],
   "source": [
    "def solution(i):\n",
    "    primes = '';\n",
    "    count = 0\n",
    "    def is_prime(n):\n",
    "        if (n < 2):\n",
    "            return False\n",
    "        for i in range(2,int(n**0.5)+1):\n",
    "            if (n % i) == 0:\n",
    "                return False\n",
    "        return True\n",
    "    while(len(primes) < i+5):\n",
    "        if is_prime(count):\n",
    "            primes += str(count)\n",
    "        count += 1\n",
    "    id = primes[i:i+5]\n",
    "    return id"
   ]
  },
  {
   "cell_type": "code",
   "execution_count": 19,
   "metadata": {},
   "outputs": [
    {
     "name": "stdout",
     "output_type": "stream",
     "text": [
      "23571\n"
     ]
    }
   ],
   "source": [
    "print(solution(0))"
   ]
  }
 ],
 "metadata": {
  "kernelspec": {
   "display_name": "Python 3",
   "language": "python",
   "name": "python3"
  },
  "language_info": {
   "codemirror_mode": {
    "name": "ipython",
    "version": 3
   },
   "file_extension": ".py",
   "mimetype": "text/x-python",
   "name": "python",
   "nbconvert_exporter": "python",
   "pygments_lexer": "ipython3",
   "version": "3.11.2"
  },
  "orig_nbformat": 4
 },
 "nbformat": 4,
 "nbformat_minor": 2
}
